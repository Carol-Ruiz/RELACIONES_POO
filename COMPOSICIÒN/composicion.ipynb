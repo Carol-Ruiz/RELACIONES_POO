{
 "cells": [
  {
   "cell_type": "markdown",
   "id": "982cf3ac",
   "metadata": {},
   "source": [
    "# COMPOSICIÓN\n",
    "La composición es una relación más \"pegada\", más fuerte que la agregación. Imaginemos que tenemos una orquesta. Los músicos son parte de la orquesta de forma tan integral que no pueden existir fuera de ella. Si la orquesta se deshace, los músicos dejan de ser músicos en ese contexto. Es decir, si la orquesta desaparece, los músicos también dejaran de existir en el mismo sentido."
   ]
  },
  {
   "cell_type": "code",
   "execution_count": 1,
   "id": "4dffe1d7",
   "metadata": {},
   "outputs": [
    {
     "name": "stdout",
     "output_type": "stream",
     "text": [
      "La orquesta Sinfónica Nacional se ha disuelto y sus músicos han dejado de existir.\n"
     ]
    }
   ],
   "source": [
    "class Orquesta:\n",
    "    def __init__(self, nombre):\n",
    "        self.nombre = nombre\n",
    "        self.musicos = []  # La orquesta tiene músicos, pero si la orquesta desaparece, los músicos también.\n",
    "\n",
    "    def agregar_musico(self, musico):\n",
    "        self.musicos.append(musico)\n",
    "\n",
    "    def __del__(self):  # Método especial que se ejecuta cuando la orquesta es destruida.\n",
    "        print(f\"La orquesta {self.nombre} se ha disuelto y sus músicos han dejado de existir.\")\n",
    "\n",
    "class Musico:\n",
    "    def __init__(self, nombre):\n",
    "        self.nombre = nombre\n",
    "\n",
    "# Uso\n",
    "orquesta = Orquesta(\"Sinfónica Nacional\")\n",
    "musico = Musico(\"Carlos\")\n",
    "orquesta.agregar_musico(musico)\n",
    "del orquesta  # Esto eliminará la orquesta y también el contexto de los músicos.\n"
   ]
  },
  {
   "cell_type": "markdown",
   "id": "43d58f18",
   "metadata": {},
   "source": [
    "### Explicación: \n",
    "Si la Orquesta se destruye, sus músicos también dejaran de existir dentro de la orquesta. Es una relación más fuerte que la agregación, donde la vida de los objetos \"hijos\" depende directamente del objeto \"padre\"."
   ]
  }
 ],
 "metadata": {
  "kernelspec": {
   "display_name": "Python 3",
   "language": "python",
   "name": "python3"
  },
  "language_info": {
   "codemirror_mode": {
    "name": "ipython",
    "version": 3
   },
   "file_extension": ".py",
   "mimetype": "text/x-python",
   "name": "python",
   "nbconvert_exporter": "python",
   "pygments_lexer": "ipython3",
   "version": "3.13.2"
  }
 },
 "nbformat": 4,
 "nbformat_minor": 5
}
