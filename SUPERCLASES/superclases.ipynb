{
 "cells": [
  {
   "cell_type": "markdown",
   "id": "673be5ec",
   "metadata": {},
   "source": [
    "# SUPERCLASES\n",
    "Una superclase es como una clase \"base\" o \"general\" de la cual otras clases pueden heredar características y comportamientos. Es como una plantilla o una categoría amplia. Pensemos en un \"animal\". En lugar de crear cada tipo de animal desde cero, podemos tener una superclase \"Animal\" que defina cosas comunes, como que todos los animales tienen un nombre o puedan moverse.\n",
    "\n",
    "Luego, las clases más específicas, como \"Perro\" o \"Gato\", se extienden de esa superclase \"Animal\" y añade sus propias características, como ladrar en el caso del perro o maullar en el caso del gato. La superclase ofrece las bases, y las clases hijas agregan detalles más específicos."
   ]
  },
  {
   "cell_type": "code",
   "execution_count": null,
   "id": "b1b1efcd",
   "metadata": {},
   "outputs": [
    {
     "name": "stdout",
     "output_type": "stream",
     "text": [
      "Rex dice ¡guau!\n"
     ]
    }
   ],
   "source": [
    "class Animal:\n",
    "    def __init__(self, nombre):\n",
    "        self.nombre = nombre\n",
    "\n",
    "    def hacer_sonido(self):\n",
    "        print(f\"{self.nombre} hace un sonido.\")\n",
    "\n",
    "class Perro(Animal):\n",
    "    def hacer_sonido(self):\n",
    "        print(f\"{self.nombre} dice ¡guau!\")\n",
    "\n",
    "# Uso\n",
    "perro = Perro(\"Rex\")\n",
    "perro.hacer_sonido()  \n"
   ]
  },
  {
   "cell_type": "markdown",
   "id": "fa457e3a",
   "metadata": {},
   "source": [
    "### Explicación: \n",
    "Animal es la superclase, y Perro es una subclase que hereda de ella. El perro sobreescribe el método hacer_sonido para especificar que hace el sonido \"¡guau!\"."
   ]
  }
 ],
 "metadata": {
  "kernelspec": {
   "display_name": "Python 3",
   "language": "python",
   "name": "python3"
  },
  "language_info": {
   "codemirror_mode": {
    "name": "ipython",
    "version": 3
   },
   "file_extension": ".py",
   "mimetype": "text/x-python",
   "name": "python",
   "nbconvert_exporter": "python",
   "pygments_lexer": "ipython3",
   "version": "3.13.2"
  }
 },
 "nbformat": 4,
 "nbformat_minor": 5
}
