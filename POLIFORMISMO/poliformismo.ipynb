{
 "cells": [
  {
   "cell_type": "markdown",
   "id": "d014f1cc",
   "metadata": {},
   "source": [
    "# POLIMORFISMO\n",
    "El polimorfismo es como cuando un actor interpreta diferentes papeles en varias películas. Aunque el actor es el mismo, su comportamiento cambia completamente según el personaje que esté interpretando. Puede ser un villano malvado en una película y un héroe en la siguiente, pero siempre es el mismo actor. El \"comportamiento\" del actor (su papel) varía dependiendo de la historia en la que esté."
   ]
  },
  {
   "cell_type": "code",
   "execution_count": 1,
   "id": "3ec7e2ea",
   "metadata": {},
   "outputs": [
    {
     "name": "stdout",
     "output_type": "stream",
     "text": [
      "El actor está interpretando a un villano malvado en una película de acción.\n",
      "El actor está interpretando a un héroe valiente en una película de aventuras.\n",
      "El actor está interpretando a un científico brillante en una película de misterio.\n"
     ]
    }
   ],
   "source": [
    "# Clase base Actor \n",
    "class Actor:\n",
    "    def interpretar(self):\n",
    "        pass\n",
    "\n",
    "\n",
    "class Villano(Actor):\n",
    "    def interpretar(self):\n",
    "        print(\"El actor está interpretando a un villano malvado en una película de acción.\")\n",
    "\n",
    "\n",
    "class Heroe(Actor):\n",
    "    def interpretar(self):\n",
    "        print(\"El actor está interpretando a un héroe valiente en una película de aventuras.\")\n",
    "\n",
    "\n",
    "class Cientifico(Actor):\n",
    "    def interpretar(self):\n",
    "        print(\"El actor está interpretando a un científico brillante en una película de misterio.\")\n",
    "\n",
    "\n",
    "papeles = [Villano(), Heroe(), Cientifico()]\n",
    "\n",
    "for papel in papeles:\n",
    "    papel.interpretar()\n"
   ]
  },
  {
   "cell_type": "markdown",
   "id": "0fca3000",
   "metadata": {},
   "source": [
    "### Explicación:\n",
    "El actor (la clase base) interpreta diferentes papeles (subclases), y su comportamiento cambia dependiendo del papel (subclase) que le toque. El actor siempre es el mismo, pero el comportamiento cambia según el contexto."
   ]
  }
 ],
 "metadata": {
  "kernelspec": {
   "display_name": "Python 3",
   "language": "python",
   "name": "python3"
  },
  "language_info": {
   "codemirror_mode": {
    "name": "ipython",
    "version": 3
   },
   "file_extension": ".py",
   "mimetype": "text/x-python",
   "name": "python",
   "nbconvert_exporter": "python",
   "pygments_lexer": "ipython3",
   "version": "3.13.2"
  }
 },
 "nbformat": 4,
 "nbformat_minor": 5
}
