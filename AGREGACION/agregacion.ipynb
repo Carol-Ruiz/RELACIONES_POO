{
 "cells": [
  {
   "cell_type": "markdown",
   "id": "abee650b",
   "metadata": {},
   "source": [
    "# AGREGACIÓN\n",
    "La agregación es como cuando una banda tiene músicos. La banda \"posee\" a los músicos, pero los músicos no dependen de la banda para existir. Si la banda se disuelve, los músicos pueden seguir haciendo su música por su cuenta, sin problema. O sea, la relación es \"sueltita\". La banda y los músicos pueden vivir sin estar siempre juntos, aunque en ese contexto tengan una conexión."
   ]
  },
  {
   "cell_type": "code",
   "execution_count": 1,
   "id": "2a12073b",
   "metadata": {},
   "outputs": [
    {
     "name": "stdout",
     "output_type": "stream",
     "text": [
      "La banda Los Rockeros está tocando con los siguientes músicos:\n",
      "Juan está tocando.\n",
      "Maria está tocando.\n"
     ]
    }
   ],
   "source": [
    "class Musico:\n",
    "    def __init__(self, nombre):\n",
    "        self.nombre = nombre\n",
    "    \n",
    "    def tocar(self):\n",
    "        print(f\"{self.nombre} está tocando.\")\n",
    "\n",
    "class Banda:\n",
    "    def __init__(self, nombre):\n",
    "        self.nombre = nombre\n",
    "        self.musicos = []\n",
    "    \n",
    "    def agregar_musico(self, musico):\n",
    "        self.musicos.append(musico)\n",
    "\n",
    "    def tocar(self):\n",
    "        print(f\"La banda {self.nombre} está tocando con los siguientes músicos:\")\n",
    "        for musico in self.musicos:\n",
    "            musico.tocar()\n",
    "\n",
    "# Uso\n",
    "banda = Banda(\"Los Rockeros\")\n",
    "musico1 = Musico(\"Juan\")\n",
    "musico2 = Musico(\"Maria\")\n",
    "banda.agregar_musico(musico1)\n",
    "banda.agregar_musico(musico2)\n",
    "banda.tocar()\n"
   ]
  },
  {
   "cell_type": "markdown",
   "id": "957fcfa5",
   "metadata": {},
   "source": [
    "### Explicación:\n",
    " La clase Banda tiene una lista de Musico, pero los músicos pueden existir por sí mismos fuera de la banda, lo cual indica una relación de agregación. La banda no \"posee\" a los músicos, solo los tiene como parte de ella."
   ]
  }
 ],
 "metadata": {
  "kernelspec": {
   "display_name": "Python 3",
   "language": "python",
   "name": "python3"
  },
  "language_info": {
   "codemirror_mode": {
    "name": "ipython",
    "version": 3
   },
   "file_extension": ".py",
   "mimetype": "text/x-python",
   "name": "python",
   "nbconvert_exporter": "python",
   "pygments_lexer": "ipython3",
   "version": "3.13.2"
  }
 },
 "nbformat": 4,
 "nbformat_minor": 5
}
