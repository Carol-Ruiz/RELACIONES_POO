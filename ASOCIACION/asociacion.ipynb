{
 "cells": [
  {
   "cell_type": "markdown",
   "id": "adf9c0ab",
   "metadata": {},
   "source": [
    "# ASOCIACIÓN\n",
    "La asociación es como una relación entre dos cosas que están conectadas, pero no dependen completamente una de la otra. Es algo más flexible. Imaginemos que un autor está relacionado con un libro, pero el autor como el libro pueden existir por separado. El autor puede escribir muchos libros, y un libro puede existir sin importar si el autor sigue vivo o no."
   ]
  },
  {
   "cell_type": "code",
   "execution_count": 1,
   "id": "f61856db",
   "metadata": {},
   "outputs": [
    {
     "name": "stdout",
     "output_type": "stream",
     "text": [
      "El libro 'El Arte de Programar' fue escrito por Donald Knuth.\n"
     ]
    }
   ],
   "source": [
    "class Autor:\n",
    "    def __init__(self, nombre):\n",
    "        self.nombre = nombre\n",
    "\n",
    "class Libro:\n",
    "    def __init__(self, titulo):\n",
    "        self.titulo = titulo\n",
    "        self.autores = []\n",
    "    \n",
    "    def agregar_autor(self, autor):\n",
    "        self.autores.append(autor)\n",
    "\n",
    "# Uso\n",
    "libro = Libro(\"El Arte de Programar\")\n",
    "autor = Autor(\"Donald Knuth\")\n",
    "libro.agregar_autor(autor)\n",
    "\n",
    "print(f\"El libro '{libro.titulo}' fue escrito por {', '.join([a.nombre for a in libro.autores])}.\")\n"
   ]
  },
  {
   "cell_type": "markdown",
   "id": "6246d18d",
   "metadata": {},
   "source": [
    "### Explicación:\n",
    " Libro y Autor están asociados, pero no depende uno del otro para existir. Un libro puede existir sin un autor, y un autor puede escribir varios libros. Se mantienen de manera independiente, pero están relacionados."
   ]
  }
 ],
 "metadata": {
  "kernelspec": {
   "display_name": "Python 3",
   "language": "python",
   "name": "python3"
  },
  "language_info": {
   "codemirror_mode": {
    "name": "ipython",
    "version": 3
   },
   "file_extension": ".py",
   "mimetype": "text/x-python",
   "name": "python",
   "nbconvert_exporter": "python",
   "pygments_lexer": "ipython3",
   "version": "3.13.2"
  }
 },
 "nbformat": 4,
 "nbformat_minor": 5
}
