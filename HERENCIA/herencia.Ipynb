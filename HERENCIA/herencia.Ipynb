{
 "cells": [
  {
   "cell_type": "markdown",
   "id": "63c9a56b",
   "metadata": {},
   "source": [
    "# HERENCIA\n",
    "La herencia en programación es básicamente como cuando un hijo hereda rasgos de sus padres. En lugar de tener que crear todo desde cero, una clase hija puede tomar las propiedades y métodos de otra clase, que sería como el \"padre\". Así, la clase hija ya tiene todo lo que la clase padre le da, pero también puede agregar o modificar cosas propias."
   ]
  },
  {
   "cell_type": "code",
   "execution_count": 2,
   "id": "fd8d1863",
   "metadata": {},
   "outputs": [
    {
     "name": "stdout",
     "output_type": "stream",
     "text": [
      "La guitarra de 6 cuerdas está sonando.\n"
     ]
    }
   ],
   "source": [
    "# Clase base (padre)\n",
    "class Instrumento:\n",
    "    def __init__(self, nombre):\n",
    "        self.nombre = nombre\n",
    "        \n",
    "    def tocar(self):\n",
    "        print(f\"El {self.nombre} está sonando.\")\n",
    "\n",
    "# Clase derivada (hija)\n",
    "class Guitarra(Instrumento):\n",
    "    def __init__(self, nombre, cuerdas):\n",
    "        super().__init__(nombre)\n",
    "        self.cuerdas = cuerdas\n",
    "\n",
    "    def tocar(self):\n",
    "        print(f\"La guitarra de {self.cuerdas} cuerdas está sonando.\")\n",
    "\n",
    "# Uso\n",
    "guitarra = Guitarra(\"guitarra\", 6)\n",
    "guitarra.tocar()  # Es la Salida: De La guitarra de 6 cuerdas que está sonando.\n"
   ]
  },
  {
   "cell_type": "markdown",
   "id": "90ba34c7",
   "metadata": {},
   "source": [
    "### Explicación: \n",
    "La clase Guitarra hereda de la clase Instrumento. Aunque Instrumento tiene el método tocar, la clase Guitarra lo sobrescribe para especificar que la guitarra tiene un número determinado de cuerdas."
   ]
  }
 ],
 "metadata": {
  "kernelspec": {
   "display_name": "Python 3",
   "language": "python",
   "name": "python3"
  },
  "language_info": {
   "codemirror_mode": {
    "name": "ipython",
    "version": 3
   },
   "file_extension": ".py",
   "mimetype": "text/x-python",
   "name": "python",
   "nbconvert_exporter": "python",
   "pygments_lexer": "ipython3",
   "version": "3.13.2"
  }
 },
 "nbformat": 4,
 "nbformat_minor": 5
}
